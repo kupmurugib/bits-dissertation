{
 "cells": [
  {
   "cell_type": "code",
   "execution_count": 1,
   "id": "0c8440af",
   "metadata": {},
   "outputs": [],
   "source": [
    "from lexical_diversity import lex_div as ld"
   ]
  },
  {
   "cell_type": "code",
   "execution_count": 7,
   "id": "1a26b12b",
   "metadata": {},
   "outputs": [],
   "source": [
    "text = \"\"\"GetVersionExA\n",
    "GetLastError\n",
    "Sleep\n",
    "CloseHandle\n",
    "GetSystemWow64DirectoryA\n",
    "CreateDirectoryA\n",
    "WriteFile\n",
    "CreateFileA\n",
    "DeleteFileA\n",
    "SizeofResource\n",
    "LoadResource\n",
    "FindResourceA\n",
    "SetFilePointer\n",
    "GetModuleFileNameA\n",
    "TerminateProcess\n",
    "GetCurrentProcess\n",
    "UnhandledExceptionFilter\n",
    "SetUnhandledExceptionFilter\n",
    "IsDebuggerPresent\n",
    "GetCommandLineA\n",
    "RaiseException\n",
    "RtlUnwind\n",
    "HeapFree\n",
    "HeapAlloc\n",
    "EnterCriticalSection\n",
    "LeaveCriticalSection\n",
    "GetModuleHandleW\n",
    "GetProcAddress\n",
    "TlsGetValue\n",
    "TlsAlloc\n",
    "TlsSetValue\n",
    "TlsFree\n",
    "InterlockedIncrement\n",
    "SetLastError\n",
    "GetCurrentThreadId\n",
    "InterlockedDecrement\n",
    "SetHandleCount\n",
    "GetStdHandle\n",
    "GetFileType\n",
    "GetStartupInfoA\n",
    "DeleteCriticalSection\n",
    "ExitProcess\n",
    "FreeEnvironmentStringsA\n",
    "GetEnvironmentStrings\n",
    "FreeEnvironmentStringsW\n",
    "WideCharToMultiByte\n",
    "GetEnvironmentStringsW\n",
    "HeapCreate\n",
    "VirtualFree\n",
    "QueryPerformanceCounter\n",
    "GetTickCount\n",
    "GetCurrentProcessId\n",
    "GetSystemTimeAsFileTime\n",
    "VirtualAlloc\n",
    "HeapReAlloc\n",
    "HeapSize\n",
    "GetCPInfo\n",
    "GetACP\n",
    "GetOEMCP\n",
    "IsValidCodePage\n",
    "MultiByteToWideChar\n",
    "ReadFile\n",
    "InitializeCriticalSectionAndSpinCount\n",
    "GetConsoleCP\n",
    "GetConsoleMode\n",
    "SetStdHandle\n",
    "FlushFileBuffers\n",
    "LoadLibraryA\n",
    "LCMapStringA\n",
    "LCMapStringW\n",
    "GetStringTypeA\n",
    "GetStringTypeW\n",
    "GetLocaleInfoA\n",
    "WriteConsoleA\n",
    "GetConsoleOutputCP\n",
    "WriteConsoleW\n",
    "SetEndOfFile\n",
    "GetProcessHeap\n",
    "StartServiceA\n",
    "DeleteService\n",
    "OpenServiceA\n",
    "CloseServiceHandle\n",
    "CreateServiceA\n",
    "OpenSCManagerA\n",
    "ControlService\n",
    "\"\"\""
   ]
  },
  {
   "cell_type": "code",
   "execution_count": 8,
   "id": "5182aa85",
   "metadata": {},
   "outputs": [],
   "source": [
    "tok = ld.tokenize(text)"
   ]
  },
  {
   "cell_type": "code",
   "execution_count": 12,
   "id": "a0291e90",
   "metadata": {},
   "outputs": [
    {
     "name": "stdout",
     "output_type": "stream",
     "text": [
      "['getversionexa', 'getlasterror', 'sleep', 'closehandle', 'getsystemwow64directorya', 'createdirectorya', 'writefile', 'createfilea', 'deletefilea', 'sizeofresource', 'loadresource', 'findresourcea', 'setfilepointer', 'getmodulefilenamea', 'terminateprocess', 'getcurrentprocess', 'unhandledexceptionfilter', 'setunhandledexceptionfilter', 'isdebuggerpresent', 'getcommandlinea', 'raiseexception', 'rtlunwind', 'heapfree', 'heapalloc', 'entercriticalsection', 'leavecriticalsection', 'getmodulehandlew', 'getprocaddress', 'tlsgetvalue', 'tlsalloc', 'tlssetvalue', 'tlsfree', 'interlockedincrement', 'setlasterror', 'getcurrentthreadid', 'interlockeddecrement', 'sethandlecount', 'getstdhandle', 'getfiletype', 'getstartupinfoa', 'deletecriticalsection', 'exitprocess', 'freeenvironmentstringsa', 'getenvironmentstrings', 'freeenvironmentstringsw', 'widechartomultibyte', 'getenvironmentstringsw', 'heapcreate', 'virtualfree', 'queryperformancecounter', 'gettickcount', 'getcurrentprocessid', 'getsystemtimeasfiletime', 'virtualalloc', 'heaprealloc', 'heapsize', 'getcpinfo', 'getacp', 'getoemcp', 'isvalidcodepage', 'multibytetowidechar', 'readfile', 'initializecriticalsectionandspincount', 'getconsolecp', 'getconsolemode', 'setstdhandle', 'flushfilebuffers', 'loadlibrarya', 'lcmapstringa', 'lcmapstringw', 'getstringtypea', 'getstringtypew', 'getlocaleinfoa', 'writeconsolea', 'getconsoleoutputcp', 'writeconsolew', 'setendoffile', 'getprocessheap', 'startservicea', 'deleteservice', 'openservicea', 'closeservicehandle', 'createservicea', 'openscmanagera', 'controlservice', '']\n"
     ]
    }
   ],
   "source": [
    "# print(tok[:10])\n",
    "print(tok)"
   ]
  },
  {
   "cell_type": "code",
   "execution_count": 10,
   "id": "e5c9fb21",
   "metadata": {},
   "outputs": [],
   "source": [
    "flt = ld.flemmatize(text)"
   ]
  },
  {
   "cell_type": "code",
   "execution_count": 13,
   "id": "5b259892",
   "metadata": {},
   "outputs": [
    {
     "name": "stdout",
     "output_type": "stream",
     "text": [
      "['getversionexa', 'getlasterror', 'sleep', 'closehandle', 'getsystemwow64directorya', 'createdirectorya', 'writefile', 'createfilea', 'deletefilea', 'sizeofresource', 'loadresource', 'findresourcea', 'setfilepointer', 'getmodulefilenamea', 'terminateprocess', 'getcurrentprocess', 'unhandledexceptionfilter', 'setunhandledexceptionfilter', 'isdebuggerpresent', 'getcommandlinea', 'raiseexception', 'rtlunwind', 'heapfree', 'heapalloc', 'entercriticalsection', 'leavecriticalsection', 'getmodulehandlew', 'getprocaddress', 'tlsgetvalue', 'tlsalloc', 'tlssetvalue', 'tlsfree', 'interlockedincrement', 'setlasterror', 'getcurrentthreadid', 'interlockeddecrement', 'sethandlecount', 'getstdhandle', 'getfiletype', 'getstartupinfoa', 'deletecriticalsection', 'exitprocess', 'freeenvironmentstringsa', 'getenvironmentstrings', 'freeenvironmentstringsw', 'widechartomultibyte', 'getenvironmentstringsw', 'heapcreate', 'virtualfree', 'queryperformancecounter', 'gettickcount', 'getcurrentprocessid', 'getsystemtimeasfiletime', 'virtualalloc', 'heaprealloc', 'heapsize', 'getcpinfo', 'getacp', 'getoemcp', 'isvalidcodepage', 'multibytetowidechar', 'readfile', 'initializecriticalsectionandspincount', 'getconsolecp', 'getconsolemode', 'setstdhandle', 'flushfilebuffers', 'loadlibrarya', 'lcmapstringa', 'lcmapstringw', 'getstringtypea', 'getstringtypew', 'getlocaleinfoa', 'writeconsolea', 'getconsoleoutputcp', 'writeconsolew', 'setendoffile', 'getprocessheap', 'startservicea', 'deleteservice', 'openservicea', 'closeservicehandle', 'createservicea', 'openscmanagera', 'controlservice', '']\n"
     ]
    }
   ],
   "source": [
    "# print(flt[:10])\n",
    "print(flt)"
   ]
  },
  {
   "cell_type": "code",
   "execution_count": null,
   "id": "51aaba68",
   "metadata": {},
   "outputs": [],
   "source": []
  }
 ],
 "metadata": {
  "kernelspec": {
   "display_name": "Python 3",
   "language": "python",
   "name": "python3"
  },
  "language_info": {
   "codemirror_mode": {
    "name": "ipython",
    "version": 3
   },
   "file_extension": ".py",
   "mimetype": "text/x-python",
   "name": "python",
   "nbconvert_exporter": "python",
   "pygments_lexer": "ipython3",
   "version": "3.8.8"
  }
 },
 "nbformat": 4,
 "nbformat_minor": 5
}
